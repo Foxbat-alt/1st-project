{
 "cells": [
  {
   "cell_type": "markdown",
   "id": "8a5d9cd0",
   "metadata": {},
   "source": [
    "##context managers"
   ]
  },
  {
   "cell_type": "code",
   "execution_count": 2,
   "id": "797298c0",
   "metadata": {},
   "outputs": [
    {
     "name": "stdout",
     "output_type": "stream",
     "text": [
      "Total: 49999995000000\n",
      "Calculate sum: 0.2074 seconds\n"
     ]
    }
   ],
   "source": [
    "from contextlib import contextmanager\n",
    "import time\n",
    "@contextmanager\n",
    "def timer(label: str):\n",
    "    start = time.time()\n",
    "    try:\n",
    "        yield\n",
    "    finally:\n",
    "        end = time.time()\n",
    "        print(f\"{label}: {end - start:.4f} seconds\")\n",
    "\n",
    "with timer(\"Calculate sum\"):\n",
    "    total = sum(range(1, 10000000))\n",
    "    print(f\"Total: {total}\")"
   ]
  },
  {
   "cell_type": "code",
   "execution_count": 3,
   "id": "36f4f59f",
   "metadata": {},
   "outputs": [
    {
     "name": "stdout",
     "output_type": "stream",
     "text": [
      "The median is: 6\n"
     ]
    }
   ],
   "source": [
    "from statistics import median\n",
    "data = [1, 3, 3, 6,7,8, 9]\n",
    "median_value = median(data)\n",
    "print(f\"The median is: {median_value}\")\n"
   ]
  },
  {
   "cell_type": "code",
   "execution_count": 6,
   "id": "89c7945d",
   "metadata": {},
   "outputs": [
    {
     "name": "stdout",
     "output_type": "stream",
     "text": [
      "Moving median: 1\n",
      "Moving median: 2.0\n",
      "Moving median: 3\n",
      "Moving median: 3.0\n",
      "Moving median: 3\n",
      "Moving median: 4.5\n",
      "Moving median: 6\n"
     ]
    }
   ],
   "source": [
    "##Excersise: Moving Median\n",
    "\n",
    "import statistics as stats\n",
    "import heapq\n",
    "from typing import Iterable, Generator\n",
    "\n",
    "# Keep the original median available\n",
    "stats._original_median = getattr(stats, \"median\")\n",
    "\n",
    "def _moving_median(iterable: Iterable[float]) -> Generator[float, None, None]:\n",
    "    \"\"\"\n",
    "    Generator yielding the moving median after each new number from `iterable`.\n",
    "    Uses two heaps: `lo` (max-heap via negative values) and `hi` (min-heap).\n",
    "    \"\"\"\n",
    "    lo = []  # max-heap (store negatives)\n",
    "    hi = []  # min-heap\n",
    "    for value in iterable:\n",
    "        # Insert\n",
    "        if not lo or value <= -lo[0]:\n",
    "            heapq.heappush(lo, -value)\n",
    "        else:\n",
    "            heapq.heappush(hi, value)\n",
    "\n",
    "        # Rebalance so len(lo) >= len(hi) and difference <= 1\n",
    "        if len(lo) > len(hi) + 1:\n",
    "            heapq.heappush(hi, -heapq.heappop(lo))\n",
    "        elif len(hi) > len(lo):\n",
    "            heapq.heappush(lo, -heapq.heappop(hi))\n",
    "\n",
    "        # Compute median\n",
    "        if len(lo) == len(hi):\n",
    "            median = (-lo[0] + hi[0]) / 2\n",
    "        else:\n",
    "            median = -lo[0]\n",
    "        yield median\n",
    "\n",
    "# Override statistics.median with the moving-median generator factory\n",
    "stats.median = _moving_median\n",
    "\n",
    "for median in stats.median([1, 3, 3, 6, 7, 8, 9]):\n",
    "    print(f\"Moving median: {median}\")"
   ]
  },
  {
   "cell_type": "code",
   "execution_count": 9,
   "id": "1e1fb343",
   "metadata": {},
   "outputs": [
    {
     "name": "stdout",
     "output_type": "stream",
     "text": [
      "Requirement already satisfied: pip in c:\\users\\hp\\appdata\\local\\programs\\python\\python312\\lib\\site-packages (23.2.1)\n",
      "Collecting pip\n",
      "  Obtaining dependency information for pip from https://files.pythonhosted.org/packages/b7/3f/945ef7ab14dc4f9d7f40288d2df998d1837ee0888ec3659c813487572faa/pip-25.2-py3-none-any.whl.metadata\n",
      "  Downloading pip-25.2-py3-none-any.whl.metadata (4.7 kB)\n",
      "Downloading pip-25.2-py3-none-any.whl (1.8 MB)\n",
      "   ---------------------------------------- 0.0/1.8 MB ? eta -:--:--\n",
      "    --------------------------------------- 0.0/1.8 MB 1.3 MB/s eta 0:00:02\n",
      "   - -------------------------------------- 0.1/1.8 MB 825.8 kB/s eta 0:00:03\n",
      "   -- ------------------------------------- 0.1/1.8 MB 901.1 kB/s eta 0:00:02\n",
      "   ----- ---------------------------------- 0.2/1.8 MB 1.4 MB/s eta 0:00:02\n",
      "   ---------- ----------------------------- 0.5/1.8 MB 2.5 MB/s eta 0:00:01\n",
      "   -------------------- ------------------- 0.9/1.8 MB 3.7 MB/s eta 0:00:01\n",
      "   ---------------------------- ----------- 1.2/1.8 MB 4.6 MB/s eta 0:00:01\n",
      "   ------------------------------------- -- 1.6/1.8 MB 5.3 MB/s eta 0:00:01\n",
      "   ---------------------------------------- 1.8/1.8 MB 5.3 MB/s eta 0:00:00\n",
      "Installing collected packages: pip\n",
      "  Attempting uninstall: pip\n",
      "    Found existing installation: pip 23.2.1\n",
      "    Uninstalling pip-23.2.1:\n",
      "      Successfully uninstalled pip-23.2.1\n",
      "Successfully installed pip-25.2\n",
      "Note: you may need to restart the kernel to use updated packages.\n"
     ]
    },
    {
     "name": "stderr",
     "output_type": "stream",
     "text": [
      "  WARNING: The scripts pip.exe, pip3.12.exe and pip3.exe are installed in 'c:\\Users\\HP\\AppData\\Local\\Programs\\Python\\Python312\\Scripts' which is not on PATH.\n",
      "  Consider adding this directory to PATH or, if you prefer to suppress this warning, use --no-warn-script-location.\n"
     ]
    }
   ],
   "source": [
    "pip install --upgrade pip"
   ]
  },
  {
   "cell_type": "code",
   "execution_count": 11,
   "id": "8508cd17",
   "metadata": {},
   "outputs": [
    {
     "name": "stdout",
     "output_type": "stream",
     "text": [
      "Requirement already satisfied: numpy in c:\\users\\hp\\appdata\\local\\programs\\python\\python312\\lib\\site-packages (2.3.3)\n",
      "Note: you may need to restart the kernel to use updated packages.\n"
     ]
    }
   ],
   "source": [
    "pip install numpy"
   ]
  },
  {
   "cell_type": "code",
   "execution_count": 12,
   "id": "0b60942f",
   "metadata": {},
   "outputs": [
    {
     "name": "stdout",
     "output_type": "stream",
     "text": [
      "Requirement already satisfied: pandas in c:\\users\\hp\\appdata\\local\\programs\\python\\python312\\lib\\site-packages (2.3.3)\n",
      "Requirement already satisfied: numpy>=1.26.0 in c:\\users\\hp\\appdata\\local\\programs\\python\\python312\\lib\\site-packages (from pandas) (2.3.3)\n",
      "Requirement already satisfied: python-dateutil>=2.8.2 in c:\\users\\hp\\appdata\\roaming\\python\\python312\\site-packages (from pandas) (2.9.0.post0)\n",
      "Requirement already satisfied: pytz>=2020.1 in c:\\users\\hp\\appdata\\local\\programs\\python\\python312\\lib\\site-packages (from pandas) (2025.2)\n",
      "Requirement already satisfied: tzdata>=2022.7 in c:\\users\\hp\\appdata\\local\\programs\\python\\python312\\lib\\site-packages (from pandas) (2025.2)\n",
      "Requirement already satisfied: six>=1.5 in c:\\users\\hp\\appdata\\roaming\\python\\python312\\site-packages (from python-dateutil>=2.8.2->pandas) (1.17.0)\n",
      "Note: you may need to restart the kernel to use updated packages.\n"
     ]
    }
   ],
   "source": [
    "pip install pandas"
   ]
  },
  {
   "cell_type": "code",
   "execution_count": null,
   "id": "c4116f7f",
   "metadata": {},
   "outputs": [],
   "source": []
  }
 ],
 "metadata": {
  "kernelspec": {
   "display_name": "Python 3",
   "language": "python",
   "name": "python3"
  },
  "language_info": {
   "codemirror_mode": {
    "name": "ipython",
    "version": 3
   },
   "file_extension": ".py",
   "mimetype": "text/x-python",
   "name": "python",
   "nbconvert_exporter": "python",
   "pygments_lexer": "ipython3",
   "version": "3.12.0"
  }
 },
 "nbformat": 4,
 "nbformat_minor": 5
}
